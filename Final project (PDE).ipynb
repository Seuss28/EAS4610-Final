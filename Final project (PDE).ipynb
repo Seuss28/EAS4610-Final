{
 "cells": [
  {
   "cell_type": "code",
   "execution_count": 2,
   "id": "35cb6c7d",
   "metadata": {},
   "outputs": [],
   "source": [
    "import numpy as np\n",
    "import matplotlib.pyplot as plt\n",
    "import scipy"
   ]
  },
  {
   "cell_type": "markdown",
   "id": "8a8e503d",
   "metadata": {},
   "source": [
    "Set parameters"
   ]
  },
  {
   "cell_type": "code",
   "execution_count": 152,
   "id": "ab1c262e",
   "metadata": {},
   "outputs": [],
   "source": [
    "tf = 10800 #time in seconds for three hours (s)\n",
    "xf = 1600  # fire spread area (m)\n",
    "\n",
    "m = 41\n",
    "n = int(tf/1) \n",
    "\n",
    "dx = xf/(m-1)\n",
    "dt = 1      #time step\n",
    "\n",
    "Tc = 1200       #initial temperature (I think???)\n",
    "#T = a vector defined below       #temperature of fire layer (K)\n",
    "k = 2.1360*10**-1       #thermal diffusivity (m^2/s)\n",
    "A = 1.8793 *10**2       #temperature rise per second at maximum burning rate with full inital fuel load and no cooling present (K/s)\n",
    "B = 5.5849 * 10**2          #proportionality coefficient in Arrhenius law (K)\n",
    "C = 4.8372 * 10**-5          #scaled coefficient of heat transfer to environment (1/K)\n",
    "Cs = 1.6250 *10**-1      #fuel relative disappearance rate (1/s)\n",
    "Ta = 0         #ambient temperature (K)\n",
    "v = 40         #wind speed (m/s)\n",
    "\n",
    "C = v * (dt/dx)\n",
    "Cd = (k*dt)/(dx)**2\n",
    "#C"
   ]
  },
  {
   "cell_type": "markdown",
   "id": "59cc8c12",
   "metadata": {},
   "source": [
    "Pre-allocate vectors"
   ]
  },
  {
   "cell_type": "code",
   "execution_count": 180,
   "id": "20a29df1",
   "metadata": {},
   "outputs": [],
   "source": [
    "t = np.linspace(0,tf,n) #time\n",
    "S = np.zeros(n)    #fuel supply mass fraction [0,1]\n",
    "\n",
    "T = np.zeros(m)    #temperature at all points in space, will be recalculated for each t, at T(t=0)=Tc (HOW DO WE find i+1?)\n",
    "Tall = np.zeros((m,m))\n",
    "\n",
    "#initial conditions\n",
    "S[0] = 1                # fuel supply starts at full capacity \n",
    "T[0]=Tc\n",
    "\n"
   ]
  },
  {
   "cell_type": "code",
   "execution_count": 172,
   "id": "63508f15",
   "metadata": {},
   "outputs": [],
   "source": [
    "deF_burn = lambda S,T,Ta: S*(np.exp(-B/(T-Ta)))   #rate fuel is consumed due to burning\n",
    "deH_atm = lambda T,Ta: A * C * (T-Ta)   #convective heat lost to atmosphere\n",
    "\n",
    "#Advec_term = lambda : -((v*dt)/(2*dx))()\n",
    "#Diff_term = lambda : \n",
    "# these two will be calculated below using matrix equations and then added to dT \n",
    "\n",
    "\n",
    "\n",
    "dT = lambda S,T, Ta: (A*deF_burn(S, T, Ta) - deH_atm(T, Ta)) #PDE Missing the diffusin an dadvection terms. added while constructing matrix.\n",
    "dS = lambda deF_burn: -Cs*deF_burn"
   ]
  },
  {
   "cell_type": "markdown",
   "id": "8547f5e0",
   "metadata": {},
   "source": [
    "Create for loop to construct matrix. using FE for calculating S, and using upwind scheme for calculating advection and centered differencing scheme for diffusion"
   ]
  },
  {
   "cell_type": "code",
   "execution_count": 178,
   "id": "9309f6dc",
   "metadata": {},
   "outputs": [
    {
     "name": "stderr",
     "output_type": "stream",
     "text": [
      "<ipython-input-172-ab5887833746>:1: RuntimeWarning: divide by zero encountered in double_scalars\n",
      "  deF_burn = lambda S,T,Ta: S*(np.exp(-B/(T-Ta)))   #rate fuel is consumed due to burning\n"
     ]
    }
   ],
   "source": [
    "# centered differencing scheme for diffusion term\n",
    "\n",
    "## isnt the length of the matrix in the time domain supposed to be length of the time vector? why is the matrix not a square matrix in the wildfire smoke advection example?\n",
    "\n",
    "T1 = np.zeros((m,m)); T2 = np.zeros((m,m))\n",
    "\n",
    "for i in np.arange(0,m):\n",
    "    for j in np.arange(0,m):\n",
    "        if i-1 ==j:\n",
    "            T1[i,j] = -(1/2)*Cd\n",
    "        elif i+1 == j:\n",
    "            T1[i,j] = -(1/2)*Cd\n",
    "        elif i==j:\n",
    "            T1[i,j] = (1+Cd)\n",
    "for i in np.arange(0,m):\n",
    "    for j in np.arange(0,m):\n",
    "        if i-1 ==j:\n",
    "            T2[i,j] = (1/2)*Cd\n",
    "        elif i+1 == j:\n",
    "            T2[i,j] = (1/2)*Cd\n",
    "        elif i==j:\n",
    "            T2[i,j] = (1-Cd)\n",
    "            \n",
    "T1 = np.linalg.inv(T1)\n",
    "TT = T1*T2\n",
    "for i in np.arange(0,m):\n",
    "    Tdiff = np.dot(TT,T)        # How do we make this time varying? / Right now it's just a vector. (IS THis the diffusion term?)\n",
    "\n",
    "\n",
    "# upwind scheme for advection term\n",
    "for i in np.arange(0,m):\n",
    "    for j in np.arange(0,m):\n",
    "        if i==j:\n",
    "            Tall[i,j] = 1-C\n",
    "        elif i-1==j:\n",
    "            Tall[i,j] = C\n",
    "\n",
    "#for loop calculating S and T at i+1   \n",
    "\n",
    "for i in np.arange(0,m):\n",
    "    S[i+1] = S[i] + dS(deF_burn(S[i],T[i],Ta))\n",
    "    #calculating T at i+1 for diffusion term \n",
    "    #WE WOULD HAVE TO Calculate a T vector (for :,x) at all t to update the below\n",
    "    for j in np.arange(0,m):\n",
    "        #this should be updating the Tall matrix, at every point along the respective diagonals, where every point\n",
    "        # would be (diffusion term - advection term + dT) where dT is diven above, which is the temperature change due to heat lost to atm and fuel lost due to burning\n",
    "        Tall[i,j] = Tall[i,j]-Tdiff[i]+ dT(S[i],T[i],Ta)\n",
    "    \n",
    "    #We should be updating T vector above, Tall[i+1] = T[i] + dT\n",
    "    # and for j in np.arange(0,m):\n",
    "    #             we would use the comments below the most recent for loop with j.\n",
    "          "
   ]
  },
  {
   "cell_type": "code",
   "execution_count": 179,
   "id": "8833ea54",
   "metadata": {},
   "outputs": [
    {
     "name": "stdout",
     "output_type": "stream",
     "text": [
      "[0.00000000e+00 2.77803500e-04 5.55607001e-04 ... 2.99944439e+00\n",
      " 2.99972220e+00 3.00000000e+00]\n"
     ]
    },
    {
     "ename": "ValueError",
     "evalue": "x and y must have same first dimension, but have shapes (10800,) and (41,)",
     "output_type": "error",
     "traceback": [
      "\u001b[0;31m---------------------------------------------------------------------------\u001b[0m",
      "\u001b[0;31mValueError\u001b[0m                                Traceback (most recent call last)",
      "\u001b[0;32m<ipython-input-179-d7c8107048ba>\u001b[0m in \u001b[0;36m<module>\u001b[0;34m\u001b[0m\n\u001b[1;32m      1\u001b[0m \u001b[0mtime\u001b[0m \u001b[0;34m=\u001b[0m \u001b[0mt\u001b[0m\u001b[0;34m/\u001b[0m\u001b[0;36m3600\u001b[0m\u001b[0;34m\u001b[0m\u001b[0;34m\u001b[0m\u001b[0m\n\u001b[1;32m      2\u001b[0m \u001b[0mprint\u001b[0m\u001b[0;34m(\u001b[0m\u001b[0mtime\u001b[0m\u001b[0;34m)\u001b[0m\u001b[0;34m\u001b[0m\u001b[0;34m\u001b[0m\u001b[0m\n\u001b[0;32m----> 3\u001b[0;31m \u001b[0mplt\u001b[0m\u001b[0;34m.\u001b[0m\u001b[0mplot\u001b[0m\u001b[0;34m(\u001b[0m\u001b[0mtime\u001b[0m\u001b[0;34m,\u001b[0m\u001b[0mT\u001b[0m\u001b[0;34m)\u001b[0m\u001b[0;34m\u001b[0m\u001b[0;34m\u001b[0m\u001b[0m\n\u001b[0m\u001b[1;32m      4\u001b[0m \u001b[0mplt\u001b[0m\u001b[0;34m.\u001b[0m\u001b[0mxlabel\u001b[0m\u001b[0;34m(\u001b[0m\u001b[0;34m\"Time\"\u001b[0m\u001b[0;34m)\u001b[0m\u001b[0;34m\u001b[0m\u001b[0;34m\u001b[0m\u001b[0m\n\u001b[1;32m      5\u001b[0m \u001b[0mplt\u001b[0m\u001b[0;34m.\u001b[0m\u001b[0mylabel\u001b[0m\u001b[0;34m(\u001b[0m\u001b[0;34m\"Temperature\"\u001b[0m\u001b[0;34m)\u001b[0m\u001b[0;34m\u001b[0m\u001b[0;34m\u001b[0m\u001b[0m\n",
      "\u001b[0;32m~/opt/anaconda3/lib/python3.8/site-packages/matplotlib/pyplot.py\u001b[0m in \u001b[0;36mplot\u001b[0;34m(scalex, scaley, data, *args, **kwargs)\u001b[0m\n\u001b[1;32m   2838\u001b[0m \u001b[0;34m@\u001b[0m\u001b[0m_copy_docstring_and_deprecators\u001b[0m\u001b[0;34m(\u001b[0m\u001b[0mAxes\u001b[0m\u001b[0;34m.\u001b[0m\u001b[0mplot\u001b[0m\u001b[0;34m)\u001b[0m\u001b[0;34m\u001b[0m\u001b[0;34m\u001b[0m\u001b[0m\n\u001b[1;32m   2839\u001b[0m \u001b[0;32mdef\u001b[0m \u001b[0mplot\u001b[0m\u001b[0;34m(\u001b[0m\u001b[0;34m*\u001b[0m\u001b[0margs\u001b[0m\u001b[0;34m,\u001b[0m \u001b[0mscalex\u001b[0m\u001b[0;34m=\u001b[0m\u001b[0;32mTrue\u001b[0m\u001b[0;34m,\u001b[0m \u001b[0mscaley\u001b[0m\u001b[0;34m=\u001b[0m\u001b[0;32mTrue\u001b[0m\u001b[0;34m,\u001b[0m \u001b[0mdata\u001b[0m\u001b[0;34m=\u001b[0m\u001b[0;32mNone\u001b[0m\u001b[0;34m,\u001b[0m \u001b[0;34m**\u001b[0m\u001b[0mkwargs\u001b[0m\u001b[0;34m)\u001b[0m\u001b[0;34m:\u001b[0m\u001b[0;34m\u001b[0m\u001b[0;34m\u001b[0m\u001b[0m\n\u001b[0;32m-> 2840\u001b[0;31m     return gca().plot(\n\u001b[0m\u001b[1;32m   2841\u001b[0m         \u001b[0;34m*\u001b[0m\u001b[0margs\u001b[0m\u001b[0;34m,\u001b[0m \u001b[0mscalex\u001b[0m\u001b[0;34m=\u001b[0m\u001b[0mscalex\u001b[0m\u001b[0;34m,\u001b[0m \u001b[0mscaley\u001b[0m\u001b[0;34m=\u001b[0m\u001b[0mscaley\u001b[0m\u001b[0;34m,\u001b[0m\u001b[0;34m\u001b[0m\u001b[0;34m\u001b[0m\u001b[0m\n\u001b[1;32m   2842\u001b[0m         **({\"data\": data} if data is not None else {}), **kwargs)\n",
      "\u001b[0;32m~/opt/anaconda3/lib/python3.8/site-packages/matplotlib/axes/_axes.py\u001b[0m in \u001b[0;36mplot\u001b[0;34m(self, scalex, scaley, data, *args, **kwargs)\u001b[0m\n\u001b[1;32m   1741\u001b[0m         \"\"\"\n\u001b[1;32m   1742\u001b[0m         \u001b[0mkwargs\u001b[0m \u001b[0;34m=\u001b[0m \u001b[0mcbook\u001b[0m\u001b[0;34m.\u001b[0m\u001b[0mnormalize_kwargs\u001b[0m\u001b[0;34m(\u001b[0m\u001b[0mkwargs\u001b[0m\u001b[0;34m,\u001b[0m \u001b[0mmlines\u001b[0m\u001b[0;34m.\u001b[0m\u001b[0mLine2D\u001b[0m\u001b[0;34m)\u001b[0m\u001b[0;34m\u001b[0m\u001b[0;34m\u001b[0m\u001b[0m\n\u001b[0;32m-> 1743\u001b[0;31m         \u001b[0mlines\u001b[0m \u001b[0;34m=\u001b[0m \u001b[0;34m[\u001b[0m\u001b[0;34m*\u001b[0m\u001b[0mself\u001b[0m\u001b[0;34m.\u001b[0m\u001b[0m_get_lines\u001b[0m\u001b[0;34m(\u001b[0m\u001b[0;34m*\u001b[0m\u001b[0margs\u001b[0m\u001b[0;34m,\u001b[0m \u001b[0mdata\u001b[0m\u001b[0;34m=\u001b[0m\u001b[0mdata\u001b[0m\u001b[0;34m,\u001b[0m \u001b[0;34m**\u001b[0m\u001b[0mkwargs\u001b[0m\u001b[0;34m)\u001b[0m\u001b[0;34m]\u001b[0m\u001b[0;34m\u001b[0m\u001b[0;34m\u001b[0m\u001b[0m\n\u001b[0m\u001b[1;32m   1744\u001b[0m         \u001b[0;32mfor\u001b[0m \u001b[0mline\u001b[0m \u001b[0;32min\u001b[0m \u001b[0mlines\u001b[0m\u001b[0;34m:\u001b[0m\u001b[0;34m\u001b[0m\u001b[0;34m\u001b[0m\u001b[0m\n\u001b[1;32m   1745\u001b[0m             \u001b[0mself\u001b[0m\u001b[0;34m.\u001b[0m\u001b[0madd_line\u001b[0m\u001b[0;34m(\u001b[0m\u001b[0mline\u001b[0m\u001b[0;34m)\u001b[0m\u001b[0;34m\u001b[0m\u001b[0;34m\u001b[0m\u001b[0m\n",
      "\u001b[0;32m~/opt/anaconda3/lib/python3.8/site-packages/matplotlib/axes/_base.py\u001b[0m in \u001b[0;36m__call__\u001b[0;34m(self, data, *args, **kwargs)\u001b[0m\n\u001b[1;32m    271\u001b[0m                 \u001b[0mthis\u001b[0m \u001b[0;34m+=\u001b[0m \u001b[0margs\u001b[0m\u001b[0;34m[\u001b[0m\u001b[0;36m0\u001b[0m\u001b[0;34m]\u001b[0m\u001b[0;34m,\u001b[0m\u001b[0;34m\u001b[0m\u001b[0;34m\u001b[0m\u001b[0m\n\u001b[1;32m    272\u001b[0m                 \u001b[0margs\u001b[0m \u001b[0;34m=\u001b[0m \u001b[0margs\u001b[0m\u001b[0;34m[\u001b[0m\u001b[0;36m1\u001b[0m\u001b[0;34m:\u001b[0m\u001b[0;34m]\u001b[0m\u001b[0;34m\u001b[0m\u001b[0;34m\u001b[0m\u001b[0m\n\u001b[0;32m--> 273\u001b[0;31m             \u001b[0;32myield\u001b[0m \u001b[0;32mfrom\u001b[0m \u001b[0mself\u001b[0m\u001b[0;34m.\u001b[0m\u001b[0m_plot_args\u001b[0m\u001b[0;34m(\u001b[0m\u001b[0mthis\u001b[0m\u001b[0;34m,\u001b[0m \u001b[0mkwargs\u001b[0m\u001b[0;34m)\u001b[0m\u001b[0;34m\u001b[0m\u001b[0;34m\u001b[0m\u001b[0m\n\u001b[0m\u001b[1;32m    274\u001b[0m \u001b[0;34m\u001b[0m\u001b[0m\n\u001b[1;32m    275\u001b[0m     \u001b[0;32mdef\u001b[0m \u001b[0mget_next_color\u001b[0m\u001b[0;34m(\u001b[0m\u001b[0mself\u001b[0m\u001b[0;34m)\u001b[0m\u001b[0;34m:\u001b[0m\u001b[0;34m\u001b[0m\u001b[0;34m\u001b[0m\u001b[0m\n",
      "\u001b[0;32m~/opt/anaconda3/lib/python3.8/site-packages/matplotlib/axes/_base.py\u001b[0m in \u001b[0;36m_plot_args\u001b[0;34m(self, tup, kwargs)\u001b[0m\n\u001b[1;32m    397\u001b[0m \u001b[0;34m\u001b[0m\u001b[0m\n\u001b[1;32m    398\u001b[0m         \u001b[0;32mif\u001b[0m \u001b[0mx\u001b[0m\u001b[0;34m.\u001b[0m\u001b[0mshape\u001b[0m\u001b[0;34m[\u001b[0m\u001b[0;36m0\u001b[0m\u001b[0;34m]\u001b[0m \u001b[0;34m!=\u001b[0m \u001b[0my\u001b[0m\u001b[0;34m.\u001b[0m\u001b[0mshape\u001b[0m\u001b[0;34m[\u001b[0m\u001b[0;36m0\u001b[0m\u001b[0;34m]\u001b[0m\u001b[0;34m:\u001b[0m\u001b[0;34m\u001b[0m\u001b[0;34m\u001b[0m\u001b[0m\n\u001b[0;32m--> 399\u001b[0;31m             raise ValueError(f\"x and y must have same first dimension, but \"\n\u001b[0m\u001b[1;32m    400\u001b[0m                              f\"have shapes {x.shape} and {y.shape}\")\n\u001b[1;32m    401\u001b[0m         \u001b[0;32mif\u001b[0m \u001b[0mx\u001b[0m\u001b[0;34m.\u001b[0m\u001b[0mndim\u001b[0m \u001b[0;34m>\u001b[0m \u001b[0;36m2\u001b[0m \u001b[0;32mor\u001b[0m \u001b[0my\u001b[0m\u001b[0;34m.\u001b[0m\u001b[0mndim\u001b[0m \u001b[0;34m>\u001b[0m \u001b[0;36m2\u001b[0m\u001b[0;34m:\u001b[0m\u001b[0;34m\u001b[0m\u001b[0;34m\u001b[0m\u001b[0m\n",
      "\u001b[0;31mValueError\u001b[0m: x and y must have same first dimension, but have shapes (10800,) and (41,)"
     ]
    },
    {
     "data": {
      "image/png": "[encoded data removed]",
      "text/plain": [
       "<Figure size 432x288 with 1 Axes>"
      ]
     },
     "metadata": {
      "needs_background": "light"
     },
     "output_type": "display_data"
    }
   ],
   "source": [
    "time = t/3600\n",
    "print(time)\n",
    "plt.plot(time,T)\n",
    "plt.xlabel(\"Time\")\n",
    "plt.ylabel(\"Temperature\")\n",
    "plt.title(\"Combustion wave, propogation of fire layer at surface\")\n",
    "plt.show()\n"
   ]
  }
 ],
 "metadata": {
  "kernelspec": {
   "display_name": "Python 3",
   "language": "python",
   "name": "python3"
  },
  "language_info": {
   "codemirror_mode": {
    "name": "ipython",
    "version": 3
   },
   "file_extension": ".py",
   "mimetype": "text/x-python",
   "name": "python",
   "nbconvert_exporter": "python",
   "pygments_lexer": "ipython3",
   "version": "3.8.8"
  }
 },
 "nbformat": 4,
 "nbformat_minor": 5
}
