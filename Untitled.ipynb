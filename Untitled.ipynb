{
 "cells": [
  {
   "cell_type": "code",
   "execution_count": 1,
   "metadata": {},
   "outputs": [],
   "source": [
    "import numpy as np\n",
    "import matplotlib.pyplot as plt\n",
    "import scipy"
   ]
  },
  {
   "cell_type": "code",
   "execution_count": null,
   "metadata": {},
   "outputs": [],
   "source": [
    "Intitial Conditons/Parameters"
   ]
  },
  {
   "cell_type": "code",
   "execution_count": 4,
   "metadata": {},
   "outputs": [],
   "source": [
    "tf = 86400 #time in seconds for one day (s)\n",
    "dt = 60      #time step\n",
    "n = tf/dt\n",
    "t = np.linspace(0,tf,n)\n",
    "#T       #temperature of fire layer (K)\n",
    "S = np.zeros(len(t))       #fuel supply mass fraction [0,1]\n",
    "#k        #thermal diffusivity (m^2/s)\n",
    "#A        #temperature rise per second at maximum burning rate with full inital fuel load and no cooling present (K/s)\n",
    "#B          #proportionality coefficient in Arrhenius law (K)\n",
    "#C          #scaled coefficient of heat transfer to environment (1/K)\n",
    "#Cs      #fuel relative disappearance rate (1/s)\n",
    "#Ta         #ambient temperature (K)\n",
    "#v          #wind speed (m/s)"
   ]
  },
  {
   "cell_type": "code",
   "execution_count": 5,
   "metadata": {},
   "outputs": [],
   "source": [
    "deF_burn = lambda S,T,Ta: S*(np.exp(-B/(T-Ta)))   #rate fuel is consumed due to burning\n",
    "deH_atm = lambda T,Ta: A * C * (T-Ta)   #convective heat lost to atmosphere\n",
    "\n",
    "dT = lambda : Diff_term - Advec_term + (A*deF_burn(S, T, Ta) - deH_atm(T, Ta)) #PDE\n",
    "dS = lambda deF_burn: -Cs*deF_burn"
   ]
  }
 ],
 "metadata": {
  "kernelspec": {
   "display_name": "Python 3",
   "language": "python",
   "name": "python3"
  },
  "language_info": {
   "codemirror_mode": {
    "name": "ipython",
    "version": 3
   },
   "file_extension": ".py",
   "mimetype": "text/x-python",
   "name": "python",
   "nbconvert_exporter": "python",
   "pygments_lexer": "ipython3",
   "version": "3.8.3"
  }
 },
 "nbformat": 4,
 "nbformat_minor": 4
}
